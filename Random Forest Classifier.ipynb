{
 "cells": [
  {
   "cell_type": "markdown",
   "id": "2acbb4f7",
   "metadata": {},
   "source": [
    "# PRE DATA PROCESSING\n",
    "\n",
    "This algorithm has the function of preprocessing the time series, calculating the exponential averages, technical indicators and classes for training the models.\n",
    "\n",
    "**Importing libraries**\n"
   ]
  },
  {
   "cell_type": "code",
   "execution_count": 1,
   "id": "489d8241",
   "metadata": {},
   "outputs": [],
   "source": [
    "import numpy as np\n",
    "from talib.abstract import *\n",
    "import pickle\n",
    "import pandas as pd"
   ]
  },
  {
   "cell_type": "code",
   "execution_count": 2,
   "id": "11b7a2a7",
   "metadata": {},
   "outputs": [],
   "source": [
    "minutes = 5 # forecast horizon in minutes\n",
    "test_size= 0.2 # 20% of the dataframe for testing\n",
    "\n",
    "# load dataframe\n",
    "with open(\"EURUSD\", \"rb\") as f:\n",
    "    inputs = pickle.load(f) # inputs is a dict containing open, high, low, closed, volume\n",
    "dataframe = pd.DataFrame.from_dict(inputs)"
   ]
  },
  {
   "cell_type": "markdown",
   "id": "a9e1426f",
   "metadata": {},
   "source": [
    "# Technical indicators\n",
    "## Bollinger Bands\n",
    "This indicator has a strong relationship with volatility, thus making it possible to compare it with price levels over a given period of time. The biggest goal of Bollinger bands is to provide a relative idea of high and low. By definition, prices are high in the upper line (band) and low in the lower line (band).\n",
    "## EMA\n",
    "The exponential moving average (EMA) is a technical chart indicator that tracks the price of an investment (like a stock or commodity) over time. The EMA is a type of weighted moving average (WMA) that gives more weighting or importance to recent price data. Like the simple moving average, the exponential moving average is used to see price trends over time, and watching several EMAs at the same time is easy to do with moving average ribbons.\n",
    "## RSI\n",
    "The Relative Strength Index (RSI) is a well-versed impulse-based oscillator that is used to measure the speed (velocity) as well as the change (magnitude) of directional price movements. Essentially, the RSI, when presented in a graph, provides a visual means to monitor the news, as well as the history, strength and weakness of a given market. The strength or weakness is based on closing prices over a specified trading period, creating a reliable metric for price and momentum changes.\n",
    "## CCI\n",
    "The indicator measures the current price level in relation to an average level, in a given time window. Thus, the further away from the average, the greater its value. The technique will show positive readings if above average and negative values if below average. An indicator that tells the analyst how far it is from an equilibrium value, immediately becomes a candidate to be used as an overbought detector and oversells as will be seen later."
   ]
  },
  {
   "cell_type": "code",
   "execution_count": 3,
   "id": "ba8c721b",
   "metadata": {},
   "outputs": [],
   "source": [
    "dataframe['BB_UP'], dataframe['BB_MID'], dataframe['BB_LOW'] = BBANDS(inputs, timeperiod=20, nbdevup=2.5, nbdevdn=2.5, matype=0)\n",
    "dataframe['EMA'] = EMA(dataframe, timeperiod=100)\n",
    "dataframe['RSI'] = RSI(dataframe['close'], timeperiod=14)\n",
    "dataframe['CCI'] = CCI(dataframe['high'], dataframe['low'], dataframe['close'], timeperiod=14)"
   ]
  },
  {
   "cell_type": "markdown",
   "id": "9d49a484",
   "metadata": {},
   "source": [
    "The dataframe contains NaN values, we need to fill them in!"
   ]
  },
  {
   "cell_type": "code",
   "execution_count": 4,
   "id": "5e5678ef",
   "metadata": {},
   "outputs": [],
   "source": [
    "dataframe.fillna(method=\"ffill\", inplace= True) # ffill: propagate last valid observation forward to next valid\n",
    "dataframe.fillna(method=\"bfill\",inplace= True) # bfill: use next valid observation to fill gap."
   ]
  },
  {
   "cell_type": "markdown",
   "id": "2a5424e3",
   "metadata": {},
   "source": [
    "Generating the classes"
   ]
  },
  {
   "cell_type": "code",
   "execution_count": 5,
   "id": "73b859cb",
   "metadata": {},
   "outputs": [],
   "source": [
    "temp_df =  dataframe\n",
    "temp_df = temp_df['close'].shift(-minutes) # Shift index by desired number of periods\n",
    "temp_df.fillna(method=\"ffill\", inplace= True)\n",
    "temp_df.fillna(method=\"bfill\", inplace= True)\n",
    "# 1 = price increase, 0 = price decrease\n",
    "classes = [1 if temp_df[i] > inputs['close'][i] else 0 for i in range(len(inputs['close']))]"
   ]
  },
  {
   "cell_type": "markdown",
   "id": "e6bb7f6a",
   "metadata": {},
   "source": [
    "# Division, Training and Testing \n",
    "\n",
    "**Importing libraries**"
   ]
  },
  {
   "cell_type": "code",
   "execution_count": 6,
   "id": "8157fac3",
   "metadata": {},
   "outputs": [],
   "source": [
    "from sklearn.model_selection import train_test_split\n",
    "from sklearn.preprocessing import QuantileTransformer"
   ]
  },
  {
   "cell_type": "markdown",
   "id": "86317598",
   "metadata": {},
   "source": [
    "## Random Division\n",
    "Preference was given to shuffling the data because this technique generated models with greater precision than temporal data\n",
    "\n",
    "## Data Distribution\n",
    "The data distribution default is \"uniform\", but can be changed to \"normal\" which represents the Gaussian distribution.\n",
    "`QuantileTransformer(output_distribution='normal')`\n",
    "This model achieved better accuracy with the default distribution\n"
   ]
  },
  {
   "cell_type": "code",
   "execution_count": 7,
   "id": "dbdd3c0a",
   "metadata": {},
   "outputs": [],
   "source": [
    "# Random division\n",
    "X_train,X_test,y_train,y_test=train_test_split(dataframe, classes, test_size= test_size, random_state=101)\n",
    "# Exponential smoothing\n",
    "scaler=QuantileTransformer()\n",
    "scaler.fit(X_train)\n",
    "X_train = pd.DataFrame(data=scaler.transform(X_train),columns = X_train.columns, index=X_train.index)\n",
    "X_test = pd.DataFrame(data=scaler.transform(X_test),columns = X_test.columns,index=X_test.index)"
   ]
  },
  {
   "cell_type": "markdown",
   "id": "bd53574d",
   "metadata": {},
   "source": [
    "# Random Forest"
   ]
  },
  {
   "cell_type": "code",
   "execution_count": 8,
   "id": "521f62ca",
   "metadata": {},
   "outputs": [],
   "source": [
    "from sklearn.ensemble import RandomForestClassifier"
   ]
  },
  {
   "cell_type": "markdown",
   "id": "29d2be31",
   "metadata": {},
   "source": [
    "**Attention**, this example works with multiprocessing and is configured to use all the cores of your processor. \n",
    "This behavior can be fixed by the parameter `jobs`"
   ]
  },
  {
   "cell_type": "code",
   "execution_count": 9,
   "id": "ea98b825",
   "metadata": {},
   "outputs": [
    {
     "data": {
      "text/plain": [
       "RandomForestClassifier(n_jobs=-1)"
      ]
     },
     "execution_count": 9,
     "metadata": {},
     "output_type": "execute_result"
    }
   ],
   "source": [
    "rf = RandomForestClassifier(n_jobs=-1)\n",
    "rf.fit(X_train, y_train)"
   ]
  },
  {
   "cell_type": "markdown",
   "id": "a391aead",
   "metadata": {},
   "source": [
    "Prediction and score"
   ]
  },
  {
   "cell_type": "code",
   "execution_count": 16,
   "id": "9cdcb6ea",
   "metadata": {},
   "outputs": [
    {
     "name": "stdout",
     "output_type": "stream",
     "text": [
      "Score:  0.79\n"
     ]
    }
   ],
   "source": [
    "predictions = rf.predict(X_test)\n",
    "score = rf.score(X_test, y_test)\n",
    "print('Score: ', round(score,2))\n",
    "# saves Random Forest with pickles\n",
    "with open(\"RF_EURUSD\", \"wb\") as f:\n",
    "    pickle.dump(rf, f)"
   ]
  },
  {
   "cell_type": "markdown",
   "id": "b9c14f41",
   "metadata": {},
   "source": [
    "# Cross-validation"
   ]
  },
  {
   "cell_type": "code",
   "execution_count": 14,
   "id": "fddb37b9",
   "metadata": {},
   "outputs": [],
   "source": [
    "from sklearn.model_selection import cross_val_score"
   ]
  },
  {
   "cell_type": "code",
   "execution_count": 15,
   "id": "a08b02eb",
   "metadata": {},
   "outputs": [
    {
     "name": "stdout",
     "output_type": "stream",
     "text": [
      "Accuracy rf: 0.78 (+/- 0.01)\n"
     ]
    }
   ],
   "source": [
    "scores = cross_val_score(rf, X_train, y_train, cv=10)\n",
    "print(\"Accuracy rf: %0.2f (+/- %0.2f)\" % (scores.mean(), scores.std() * 2))"
   ]
  }
 ],
 "metadata": {
  "kernelspec": {
   "display_name": "Python 3",
   "language": "python",
   "name": "python3"
  },
  "language_info": {
   "codemirror_mode": {
    "name": "ipython",
    "version": 3
   },
   "file_extension": ".py",
   "mimetype": "text/x-python",
   "name": "python",
   "nbconvert_exporter": "python",
   "pygments_lexer": "ipython3",
   "version": "3.8.5"
  }
 },
 "nbformat": 4,
 "nbformat_minor": 5
}
